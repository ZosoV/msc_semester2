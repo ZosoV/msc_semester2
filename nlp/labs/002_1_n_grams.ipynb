{
 "cells": [
  {
   "cell_type": "markdown",
   "metadata": {},
   "source": [
    "# Week 02\n",
    ": N-Grams Language Models"
   ]
  },
  {
   "cell_type": "markdown",
   "metadata": {},
   "source": [
    "**1. Write out the equation for trigram probability estimation (modifying Eq. 3.11 from SLP Chapter 3). Now write out all the non-zero trigram probabilities for the I am Sam corpus in Chapter 3 on page 4.**\n",
    "\n",
    "$$P(w_i | w_{i-2}, w_{i-1}) = \\frac{c(w_{i-2}, w_{i-1},w_{i})}{c(w_{i-2}, w_{i-1})}$$\n",
    "\n",
    "NOTE: hand-writing in ipad\n",
    "\n",
    "\n",
    "\n",
    "\n"
   ]
  },
  {
   "cell_type": "markdown",
   "metadata": {},
   "source": [
    "**2. Write a program to compute unsmoothed n-grams. Use the Dr. Seuss corpus to test this.**"
   ]
  },
  {
   "cell_type": "code",
   "execution_count": 62,
   "metadata": {},
   "outputs": [],
   "source": [
    "import re\n",
    "from collections import Counter"
   ]
  },
  {
   "cell_type": "code",
   "execution_count": 126,
   "metadata": {},
   "outputs": [
    {
     "name": "stdout",
     "output_type": "stream",
     "text": [
      "['<s>', 'I', 'am', 'Sam', '</s>', '<s>', 'Sam', 'I', 'am', '</s>', '<s>', 'I', 'do', 'not', 'like', 'green', 'eggs', 'and', 'ham', '</s>']\n"
     ]
    },
    {
     "data": {
      "text/plain": [
       "20"
      ]
     },
     "execution_count": 126,
     "metadata": {},
     "output_type": "execute_result"
    }
   ],
   "source": [
    "def pre_process_corpus(corpus):\n",
    "    return re.findall(r'[A-Za-z0-9|(<s>)|(</s>)]+', corpus)\n",
    "\n",
    "corpus = '''\n",
    "<s> I am Sam </s>\n",
    "<s> Sam I am </s>\n",
    "<s> I do not like green eggs and ham </s>\n",
    "'''\n",
    "print(pre_process_corpus(corpus))\n",
    "len(pre_process_corpus(corpus))\n"
   ]
  },
  {
   "cell_type": "code",
   "execution_count": 114,
   "metadata": {},
   "outputs": [
    {
     "data": {
      "text/plain": [
       "Counter({(1, 2, 3, 4): 1, (2, 3, 4, 5): 1, (3, 4, 5, 6): 1})"
      ]
     },
     "execution_count": 114,
     "metadata": {},
     "output_type": "execute_result"
    }
   ],
   "source": [
    "def find_consecutive_tuples(lst, n = 3):\n",
    "    tuples = []\n",
    "    for i in range(len(lst) - n + 1):\n",
    "        tuple_n = tuple(lst[i:i+n])\n",
    "        tuples.append(tuple_n)\n",
    "    tuples = Counter(tuples)\n",
    "    return tuples\n",
    "\n",
    "# Example usage\n",
    "my_list = [1, 2, 3, 4, 5, 6]\n",
    "n = 4  # Size of each tuple\n",
    "find_consecutive_tuples(my_list, n)"
   ]
  },
  {
   "cell_type": "code",
   "execution_count": 65,
   "metadata": {},
   "outputs": [],
   "source": [
    "def cond_prob(sentence, counts_n, counts_n_minus_1):\n",
    "    prefix = sentence[:-1]\n",
    "\n",
    "    return counts_n[sentence] / counts_n_minus_1[prefix]"
   ]
  },
  {
   "cell_type": "code",
   "execution_count": 124,
   "metadata": {},
   "outputs": [],
   "source": [
    "def n_grams(corpus, n = 2):\n",
    "\n",
    "    # NOTE: I did this implementation of the n_grams without considering the vocabulary\n",
    "    # a better implementation is to use the vocabulary and analyze every possible\n",
    "    # n_tuple combination considering the order\n",
    "\n",
    "    corpus = pre_process_corpus(corpus)\n",
    "    \n",
    "    counts_n = find_consecutive_tuples(corpus, n )\n",
    "\n",
    "    counts_n_minus_1 = find_consecutive_tuples(corpus, n - 1)\n",
    "    \n",
    "    # One extreme case\n",
    "    if n - 1 == 0:\n",
    "        counts_n_minus_1[()] -= 1\n",
    "\n",
    "    print(corpus)\n",
    "\n",
    "    probabilities = {}\n",
    "    for i in range(len(corpus) - n + 1):\n",
    "        tuple_n = tuple(corpus[i:i+n])\n",
    "        prob = cond_prob(tuple_n, counts_n, counts_n_minus_1)\n",
    "        print(f\"P({tuple_n[-1]}|{tuple_n[:-1]}) =\", prob)\n",
    "        probabilities[tuple_n] = prob\n",
    "\n",
    "    return probabilities"
   ]
  },
  {
   "cell_type": "code",
   "execution_count": 67,
   "metadata": {},
   "outputs": [
    {
     "name": "stdout",
     "output_type": "stream",
     "text": [
      "P(<s>|()) = 0.15\n",
      "P(I|()) = 0.15\n",
      "P(am|()) = 0.1\n",
      "P(Sam|()) = 0.1\n",
      "P(</s>|()) = 0.15\n",
      "P(<s>|()) = 0.15\n",
      "P(Sam|()) = 0.1\n",
      "P(I|()) = 0.15\n",
      "P(am|()) = 0.1\n",
      "P(</s>|()) = 0.15\n",
      "P(<s>|()) = 0.15\n",
      "P(I|()) = 0.15\n",
      "P(do|()) = 0.05\n",
      "P(not|()) = 0.05\n",
      "P(like|()) = 0.05\n",
      "P(green|()) = 0.05\n",
      "P(eggs|()) = 0.05\n",
      "P(and|()) = 0.05\n",
      "P(ham|()) = 0.05\n",
      "P(</s>|()) = 0.15\n"
     ]
    }
   ],
   "source": [
    "# n-gram with n=2\n",
    "corpus = '''\n",
    "<s> I am Sam </s>\n",
    "<s> Sam I am </s>\n",
    "<s> I do not like green eggs and ham </s>\n",
    "'''\n",
    "n_grams(corpus, n=1)"
   ]
  },
  {
   "cell_type": "code",
   "execution_count": 68,
   "metadata": {},
   "outputs": [
    {
     "name": "stdout",
     "output_type": "stream",
     "text": [
      "P(I|('<s>',)) = 0.6666666666666666\n",
      "P(am|('I',)) = 0.6666666666666666\n",
      "P(Sam|('am',)) = 0.5\n",
      "P(</s>|('Sam',)) = 0.5\n",
      "P(<s>|('</s>',)) = 0.6666666666666666\n",
      "P(Sam|('<s>',)) = 0.3333333333333333\n",
      "P(I|('Sam',)) = 0.5\n",
      "P(am|('I',)) = 0.6666666666666666\n",
      "P(</s>|('am',)) = 0.5\n",
      "P(<s>|('</s>',)) = 0.6666666666666666\n",
      "P(I|('<s>',)) = 0.6666666666666666\n",
      "P(do|('I',)) = 0.3333333333333333\n",
      "P(not|('do',)) = 1.0\n",
      "P(like|('not',)) = 1.0\n",
      "P(green|('like',)) = 1.0\n",
      "P(eggs|('green',)) = 1.0\n",
      "P(and|('eggs',)) = 1.0\n",
      "P(ham|('and',)) = 1.0\n",
      "P(</s>|('ham',)) = 1.0\n"
     ]
    }
   ],
   "source": [
    "# Book Example: bigram or n-gram with n=2\n",
    "corpus = '''\n",
    "<s> I am Sam </s>\n",
    "<s> Sam I am </s>\n",
    "<s> I do not like green eggs and ham </s>\n",
    "'''\n",
    "n_grams(corpus, n=2)"
   ]
  },
  {
   "cell_type": "code",
   "execution_count": 60,
   "metadata": {},
   "outputs": [
    {
     "name": "stdout",
     "output_type": "stream",
     "text": [
      "Counter({('<s>', '<s>'): 3, ('<s>', 'I'): 2, ('I', 'am'): 2, ('</s>', '<s>'): 2, ('am', 'Sam'): 1, ('Sam', '</s>'): 1, ('<s>', 'Sam'): 1, ('Sam', 'I'): 1, ('am', '</s>'): 1, ('I', 'do'): 1, ('do', 'not'): 1, ('not', 'like'): 1, ('like', 'green'): 1, ('green', 'eggs'): 1, ('eggs', 'and'): 1, ('and', 'ham'): 1, ('ham', '</s>'): 1})\n",
      "P(I|('<s>', '<s>')) = 0.6666666666666666\n",
      "P(am|('<s>', 'I')) = 0.5\n",
      "P(Sam|('I', 'am')) = 0.5\n",
      "P(</s>|('am', 'Sam')) = 1.0\n",
      "P(<s>|('Sam', '</s>')) = 1.0\n",
      "P(<s>|('</s>', '<s>')) = 1.0\n",
      "P(Sam|('<s>', '<s>')) = 0.3333333333333333\n",
      "P(I|('<s>', 'Sam')) = 1.0\n",
      "P(am|('Sam', 'I')) = 1.0\n",
      "P(</s>|('I', 'am')) = 0.5\n",
      "P(<s>|('am', '</s>')) = 1.0\n",
      "P(<s>|('</s>', '<s>')) = 1.0\n",
      "P(I|('<s>', '<s>')) = 0.6666666666666666\n",
      "P(do|('<s>', 'I')) = 0.5\n",
      "P(not|('I', 'do')) = 1.0\n",
      "P(like|('do', 'not')) = 1.0\n",
      "P(green|('not', 'like')) = 1.0\n",
      "P(eggs|('like', 'green')) = 1.0\n",
      "P(and|('green', 'eggs')) = 1.0\n",
      "P(ham|('eggs', 'and')) = 1.0\n",
      "P(</s>|('and', 'ham')) = 1.0\n"
     ]
    }
   ],
   "source": [
    "# n-gram with n=3\n",
    "corpus = '''\n",
    "<s> <s> I am Sam </s>\n",
    "<s> <s> Sam I am </s>\n",
    "<s> <s> I do not like green eggs and ham </s>\n",
    "'''\n",
    "n_grams(corpus, n=3)"
   ]
  },
  {
   "cell_type": "code",
   "execution_count": 98,
   "metadata": {},
   "outputs": [
    {
     "name": "stdout",
     "output_type": "stream",
     "text": [
      "P(I|('<s>',)) = 0.6666666666666666\n",
      "P(am|('I',)) = 0.6666666666666666\n",
      "P(Sam|('am',)) = 0.5\n",
      "P(</s>|('Sam',)) = 0.5\n",
      "P(<s>|('</s>',)) = 0.6666666666666666\n",
      "P(Sam|('<s>',)) = 0.3333333333333333\n",
      "P(I|('Sam',)) = 0.5\n",
      "P(am|('I',)) = 0.6666666666666666\n",
      "P(</s>|('am',)) = 0.5\n",
      "P(<s>|('</s>',)) = 0.6666666666666666\n",
      "P(I|('<s>',)) = 0.6666666666666666\n",
      "P(do|('I',)) = 0.3333333333333333\n",
      "P(not|('do',)) = 1.0\n",
      "P(like|('not',)) = 1.0\n",
      "P(green|('like',)) = 1.0\n",
      "P(eggs|('green',)) = 1.0\n",
      "P(and|('eggs',)) = 1.0\n",
      "P(ham|('and',)) = 1.0\n",
      "P(</s>|('ham',)) = 1.0\n",
      "['<s>', 'I', 'am', 'Sam', '</s>']\n",
      "P(sentence) =  0.1111111111111111\n",
      "['<s>', 'Sam', 'I', 'am', '</s>']\n",
      "P(sentence) =  0.05555555555555555\n",
      "['<s>', 'I', 'do', 'not', 'like', 'green', 'eggs', 'and', 'ham', '</s>']\n",
      "P(sentence) =  0.2222222222222222\n"
     ]
    }
   ],
   "source": [
    "# NOTE: Probability of each sentence must be 1 in the bigram case\n",
    "def probabilities_of_sentence(corpus, n = 2):\n",
    "    sentences = re.findall(r'<s>.*</s>', corpus)\n",
    "    probabilities = n_grams(corpus, n)\n",
    "\n",
    "    for sentence in sentences:\n",
    "        sentence = pre_process_corpus(sentence)\n",
    "        cum_prob = 1\n",
    "        counts_n  = find_consecutive_tuples(sentence, n)\n",
    "        for tuple_n, count in counts_n.items():\n",
    "            cum_prob *= (probabilities[tuple_n])**count\n",
    "        \n",
    "        print(sentence)\n",
    "        print(\"P(sentence) = \", cum_prob)\n",
    "\n",
    "# NOTE: It's not gonna sum up 1 because n-grams are insufficient model of language because\n",
    "# don't capture long-distance dependences\n",
    "    \n",
    "# But in some tasks this model perform a descent job\n",
    "\n",
    "corpus = '''\n",
    "<s> I am Sam </s>\n",
    "<s> Sam I am </s>\n",
    "<s> I do not like green eggs and ham </s>\n",
    "'''\n",
    "\n",
    "probabilities_of_sentence(corpus)"
   ]
  },
  {
   "cell_type": "code",
   "execution_count": 101,
   "metadata": {},
   "outputs": [
    {
     "name": "stdout",
     "output_type": "stream",
     "text": [
      "P(am|('<s>', '<s>', 'I')) = 0.5\n",
      "P(Sam|('<s>', 'I', 'am')) = 1.0\n",
      "P(</s>|('I', 'am', 'Sam')) = 1.0\n",
      "P(<s>|('am', 'Sam', '</s>')) = 1.0\n",
      "P(<s>|('Sam', '</s>', '<s>')) = 1.0\n",
      "P(Sam|('</s>', '<s>', '<s>')) = 0.5\n",
      "P(I|('<s>', '<s>', 'Sam')) = 1.0\n",
      "P(am|('<s>', 'Sam', 'I')) = 1.0\n",
      "P(</s>|('Sam', 'I', 'am')) = 1.0\n",
      "P(<s>|('I', 'am', '</s>')) = 1.0\n",
      "P(<s>|('am', '</s>', '<s>')) = 1.0\n",
      "P(I|('</s>', '<s>', '<s>')) = 0.5\n",
      "P(do|('<s>', '<s>', 'I')) = 0.5\n",
      "P(not|('<s>', 'I', 'do')) = 1.0\n",
      "P(like|('I', 'do', 'not')) = 1.0\n",
      "P(green|('do', 'not', 'like')) = 1.0\n",
      "P(eggs|('not', 'like', 'green')) = 1.0\n",
      "P(and|('like', 'green', 'eggs')) = 1.0\n",
      "P(ham|('green', 'eggs', 'and')) = 1.0\n",
      "P(</s>|('eggs', 'and', 'ham')) = 1.0\n",
      "['<s>', '<s>', 'I', 'am', 'Sam', '</s>']\n",
      "P(sentence) =  0.5\n",
      "['<s>', '<s>', 'Sam', 'I', 'am', '</s>']\n",
      "P(sentence) =  1.0\n",
      "['<s>', '<s>', 'I', 'do', 'not', 'like', 'green', 'eggs', 'and', 'ham', '</s>']\n",
      "P(sentence) =  0.5\n"
     ]
    }
   ],
   "source": [
    "corpus = '''\n",
    "<s> <s> I am Sam </s>\n",
    "<s> <s> Sam I am </s>\n",
    "<s> <s> I do not like green eggs and ham </s>\n",
    "'''\n",
    "\n",
    "probabilities_of_sentence(corpus, n = 4)"
   ]
  },
  {
   "cell_type": "markdown",
   "metadata": {},
   "source": [
    "**3. Run your n-gram program on two different small corpora of your choice (you might use email text or newsgroups). Now compare the statistics of the two corpora. What are the differences in the most common unigrams between the two? How about interesting differences in bigrams?**\n"
   ]
  },
  {
   "cell_type": "code",
   "execution_count": 103,
   "metadata": {},
   "outputs": [],
   "source": [
    "corpus1 = '''\n",
    "<s> The study of artificial intelligence has made significant progress in recent years </s>\n",
    "<s> Advanced algorithms and computing power have enabled machines to learn complex patterns and make decisions based on data </s>\n",
    "<s> The application of machine learning in various fields such as healthcare, finance, and transportation has demonstrated its potential to revolutionize industries </s>\n",
    "'''\n",
    "\n",
    "corpus2 = '''\n",
    "<s> Hey, how's it going? I was thinking about catching a movie later </s>\n",
    "<s> Yeah, that sounds great! I've been wanting to see the new superhero film </s>\n",
    "<s> It's supposed to be really good. Let's grab some dinner before the movie </s>\n",
    "<s> Maybe pizza or burgers? </s>\n",
    "\n",
    "'''"
   ]
  },
  {
   "cell_type": "code",
   "execution_count": 105,
   "metadata": {},
   "outputs": [
    {
     "name": "stdout",
     "output_type": "stream",
     "text": [
      "P(The|('<s>',)) = 0.6666666666666666\n",
      "P(study|('The',)) = 0.5\n",
      "P(of|('study',)) = 1.0\n",
      "P(artificial|('of',)) = 0.5\n",
      "P(intelligence|('artificial',)) = 1.0\n",
      "P(has|('intelligence',)) = 1.0\n",
      "P(made|('has',)) = 0.5\n",
      "P(significant|('made',)) = 1.0\n",
      "P(progress|('significant',)) = 1.0\n",
      "P(in|('progress',)) = 1.0\n",
      "P(recent|('in',)) = 0.5\n",
      "P(years|('recent',)) = 1.0\n",
      "P(</s>|('years',)) = 1.0\n",
      "P(<s>|('</s>',)) = 0.6666666666666666\n",
      "P(Advanced|('<s>',)) = 0.3333333333333333\n",
      "P(algorithms|('Advanced',)) = 1.0\n",
      "P(and|('algorithms',)) = 1.0\n",
      "P(computing|('and',)) = 0.3333333333333333\n",
      "P(power|('computing',)) = 1.0\n",
      "P(have|('power',)) = 1.0\n",
      "P(enabled|('have',)) = 1.0\n",
      "P(machines|('enabled',)) = 1.0\n",
      "P(to|('machines',)) = 1.0\n",
      "P(learn|('to',)) = 0.5\n",
      "P(complex|('learn',)) = 1.0\n",
      "P(patterns|('complex',)) = 1.0\n",
      "P(and|('patterns',)) = 1.0\n",
      "P(make|('and',)) = 0.3333333333333333\n",
      "P(decisions|('make',)) = 1.0\n",
      "P(based|('decisions',)) = 1.0\n",
      "P(on|('based',)) = 1.0\n",
      "P(data|('on',)) = 1.0\n",
      "P(</s>|('data',)) = 1.0\n",
      "P(<s>|('</s>',)) = 0.6666666666666666\n",
      "P(The|('<s>',)) = 0.6666666666666666\n",
      "P(application|('The',)) = 0.5\n",
      "P(of|('application',)) = 1.0\n",
      "P(machine|('of',)) = 0.5\n",
      "P(learning|('machine',)) = 1.0\n",
      "P(in|('learning',)) = 1.0\n",
      "P(various|('in',)) = 0.5\n",
      "P(fields|('various',)) = 1.0\n",
      "P(such|('fields',)) = 1.0\n",
      "P(as|('such',)) = 1.0\n",
      "P(healthcare|('as',)) = 1.0\n",
      "P(finance|('healthcare',)) = 1.0\n",
      "P(and|('finance',)) = 1.0\n",
      "P(transportation|('and',)) = 0.3333333333333333\n",
      "P(has|('transportation',)) = 1.0\n",
      "P(demonstrated|('has',)) = 0.5\n",
      "P(its|('demonstrated',)) = 1.0\n",
      "P(potential|('its',)) = 1.0\n",
      "P(to|('potential',)) = 1.0\n",
      "P(revolutionize|('to',)) = 0.5\n",
      "P(industries|('revolutionize',)) = 1.0\n",
      "P(</s>|('industries',)) = 1.0\n"
     ]
    }
   ],
   "source": [
    "probs = n_grams(corpus1, n = 2)"
   ]
  },
  {
   "cell_type": "code",
   "execution_count": 107,
   "metadata": {},
   "outputs": [
    {
     "name": "stdout",
     "output_type": "stream",
     "text": [
      "P(Hey|('<s>',)) = 0.25\n",
      "P(how|('Hey',)) = 1.0\n",
      "P(s|('how',)) = 1.0\n",
      "P(it|('s',)) = 0.3333333333333333\n",
      "P(going|('it',)) = 1.0\n",
      "P(I|('going',)) = 1.0\n",
      "P(was|('I',)) = 0.5\n",
      "P(thinking|('was',)) = 1.0\n",
      "P(about|('thinking',)) = 1.0\n",
      "P(catching|('about',)) = 1.0\n",
      "P(a|('catching',)) = 1.0\n",
      "P(movie|('a',)) = 1.0\n",
      "P(later|('movie',)) = 0.5\n",
      "P(</s>|('later',)) = 1.0\n",
      "P(<s>|('</s>',)) = 0.75\n",
      "P(Yeah|('<s>',)) = 0.25\n",
      "P(that|('Yeah',)) = 1.0\n",
      "P(sounds|('that',)) = 1.0\n",
      "P(great|('sounds',)) = 1.0\n",
      "P(I|('great',)) = 1.0\n",
      "P(ve|('I',)) = 0.5\n",
      "P(been|('ve',)) = 1.0\n",
      "P(wanting|('been',)) = 1.0\n",
      "P(to|('wanting',)) = 1.0\n",
      "P(see|('to',)) = 0.5\n",
      "P(the|('see',)) = 1.0\n",
      "P(new|('the',)) = 0.5\n",
      "P(superhero|('new',)) = 1.0\n",
      "P(film|('superhero',)) = 1.0\n",
      "P(</s>|('film',)) = 1.0\n",
      "P(<s>|('</s>',)) = 0.75\n",
      "P(It|('<s>',)) = 0.25\n",
      "P(s|('It',)) = 1.0\n",
      "P(supposed|('s',)) = 0.3333333333333333\n",
      "P(to|('supposed',)) = 1.0\n",
      "P(be|('to',)) = 0.5\n",
      "P(really|('be',)) = 1.0\n",
      "P(good|('really',)) = 1.0\n",
      "P(Let|('good',)) = 1.0\n",
      "P(s|('Let',)) = 1.0\n",
      "P(grab|('s',)) = 0.3333333333333333\n",
      "P(some|('grab',)) = 1.0\n",
      "P(dinner|('some',)) = 1.0\n",
      "P(before|('dinner',)) = 1.0\n",
      "P(the|('before',)) = 1.0\n",
      "P(movie|('the',)) = 0.5\n",
      "P(</s>|('movie',)) = 0.5\n",
      "P(<s>|('</s>',)) = 0.75\n",
      "P(Maybe|('<s>',)) = 0.25\n",
      "P(pizza|('Maybe',)) = 1.0\n",
      "P(or|('pizza',)) = 1.0\n",
      "P(burgers|('or',)) = 1.0\n",
      "P(</s>|('burgers',)) = 1.0\n"
     ]
    }
   ],
   "source": [
    "probs = n_grams(corpus2, n = 2)"
   ]
  },
  {
   "cell_type": "markdown",
   "metadata": {},
   "source": [
    "**4. Write a definition of perplexity in language modeling.**\n",
    "\n",
    "**perplexity** is a metric to measure the performance of different natual language models in an intrinsic way. Or in other words, without taking into account any particular application.\n",
    "\n",
    "The metric is inversaly proporational to the probablitity of a sentence, and normalized by the number of words (N).\n",
    "\n",
    "It's helpful for quick prototyping models (and choosing between them), but it doesn't guarantee to get an extrinsic result in a specific applicaiton.\n",
    "\n",
    "It can also be understand in terms of information theory"
   ]
  },
  {
   "cell_type": "markdown",
   "metadata": {},
   "source": [
    "**5. Add an option to your program to compute the perplexity of a test set.**\n",
    "\n"
   ]
  },
  {
   "cell_type": "code",
   "execution_count": 137,
   "metadata": {},
   "outputs": [],
   "source": [
    "def preplexity(test_corpus, probabilities, n = 2):#\n",
    "    # NOTE: differently as the function above\n",
    "    # the cumulative probability is calculate in the whole corpus\n",
    "    # not by sentence\n",
    "\n",
    "    # NOTE: the probabilities where already previously calculated by\n",
    "    # the n_gram. In order to test, we only need to pick up\n",
    "    # the corresponding probabilities\n",
    "    # NOTE: notice that if a n-gram from test doesn't appear\n",
    "    # on the train. Then, that n-gram will not have a \n",
    "    # probability associated, then we assign zero prob by the moment.\n",
    "    # TODO: review if it's ok to assign prob 0\n",
    "    test_corpus = pre_process_corpus(test_corpus)\n",
    "\n",
    "    counts_n = find_consecutive_tuples(test_corpus, n)\n",
    "\n",
    "    cum_prob = 1\n",
    "\n",
    "    for tuple_n, count in counts_n.items():\n",
    "            \n",
    "            if tuple_n in probabilities:\n",
    "                cum_prob *= probabilities[tuple_n] ** count\n",
    "            else:\n",
    "                cum_prob *= 0\n",
    "                break\n",
    "    \n",
    "    # NOTE: here W is the whole corpus\n",
    "    print(\"P(W) =\", cum_prob)\n",
    "\n",
    "    preplexity = cum_prob ** (-1/len(test_corpus))\n",
    "\n",
    "    return preplexity"
   ]
  },
  {
   "cell_type": "code",
   "execution_count": 138,
   "metadata": {},
   "outputs": [
    {
     "name": "stdout",
     "output_type": "stream",
     "text": [
      "['<s>', 'I', 'am', 'Sam', '</s>', '<s>', 'Sam', 'I', 'am', '</s>', '<s>', 'I', 'do', 'not', 'like', 'green', 'eggs', 'and', 'ham', '</s>']\n",
      "P(I|('<s>',)) = 0.6666666666666666\n",
      "P(am|('I',)) = 0.6666666666666666\n",
      "P(Sam|('am',)) = 0.5\n",
      "P(</s>|('Sam',)) = 0.5\n",
      "P(<s>|('</s>',)) = 0.6666666666666666\n",
      "P(Sam|('<s>',)) = 0.3333333333333333\n",
      "P(I|('Sam',)) = 0.5\n",
      "P(am|('I',)) = 0.6666666666666666\n",
      "P(</s>|('am',)) = 0.5\n",
      "P(<s>|('</s>',)) = 0.6666666666666666\n",
      "P(I|('<s>',)) = 0.6666666666666666\n",
      "P(do|('I',)) = 0.3333333333333333\n",
      "P(not|('do',)) = 1.0\n",
      "P(like|('not',)) = 1.0\n",
      "P(green|('like',)) = 1.0\n",
      "P(eggs|('green',)) = 1.0\n",
      "P(and|('eggs',)) = 1.0\n",
      "P(ham|('and',)) = 1.0\n",
      "P(</s>|('ham',)) = 1.0\n",
      "P(W) = 0.0006096631611034902\n",
      "Preplexity:  1.4479231182334018\n"
     ]
    }
   ],
   "source": [
    "corpus_train = '''\n",
    "<s> I am Sam </s>\n",
    "<s> Sam I am </s>\n",
    "<s> I do not like green eggs and ham </s>\n",
    "'''\n",
    "\n",
    "# NOTE: Testing in the train corpus creates an artificailly low perplexity\n",
    "probabilities = n_grams(corpus_train, n = 2)\n",
    "print(\"Preplexity: \", preplexity(corpus_train, probabilities, n = 2))"
   ]
  },
  {
   "cell_type": "code",
   "execution_count": 139,
   "metadata": {},
   "outputs": [
    {
     "name": "stdout",
     "output_type": "stream",
     "text": [
      "['0', '1', '2', '3', '4', '5', '6', '7', '8', '9']\n",
      "P(0|()) = 0.1\n",
      "P(1|()) = 0.1\n",
      "P(2|()) = 0.1\n",
      "P(3|()) = 0.1\n",
      "P(4|()) = 0.1\n",
      "P(5|()) = 0.1\n",
      "P(6|()) = 0.1\n",
      "P(7|()) = 0.1\n",
      "P(8|()) = 0.1\n",
      "P(9|()) = 0.1\n",
      "P(W) = 1.0000000000000006e-10\n",
      "Preplexity:  10.0\n"
     ]
    }
   ],
   "source": [
    "# Example of numbers\n",
    "\n",
    "corpus_train = '''0 1 2 3 4 5 6 7 8 9'''\n",
    "\n",
    "# NOTE: Testing in the train corpus creates an artificailly low perplexity\n",
    "probabilities = n_grams(corpus_train, n = 1)\n",
    "print(\"Preplexity: \", preplexity(corpus_train, probabilities, n = 1))"
   ]
  },
  {
   "cell_type": "code",
   "execution_count": 140,
   "metadata": {},
   "outputs": [
    {
     "name": "stdout",
     "output_type": "stream",
     "text": [
      " 0 0 0 0 0 0 0 0 0 0 0 0 0 0 0 0 0 0 0 0 0 0 0 0 0 0 0 0 0 0 0 0 0 0 0 0 0 0 0 0 0 0 0 0 0 0 0 0 0 0 0 0 0 0 0 0 0 0 0 0 0 0 0 0 0 0 0 0 0 0 0 0 0 0 0 0 0 0 0 0 0 0 0 0 0 0 0 0 0 0 0 1 2 3 4 5 6 7 8 9\n",
      "['0', '0', '0', '0', '0', '0', '0', '0', '0', '0', '0', '0', '0', '0', '0', '0', '0', '0', '0', '0', '0', '0', '0', '0', '0', '0', '0', '0', '0', '0', '0', '0', '0', '0', '0', '0', '0', '0', '0', '0', '0', '0', '0', '0', '0', '0', '0', '0', '0', '0', '0', '0', '0', '0', '0', '0', '0', '0', '0', '0', '0', '0', '0', '0', '0', '0', '0', '0', '0', '0', '0', '0', '0', '0', '0', '0', '0', '0', '0', '0', '0', '0', '0', '0', '0', '0', '0', '0', '0', '0', '0', '1', '2', '3', '4', '5', '6', '7', '8', '9']\n",
      "P(0|()) = 0.91\n",
      "P(0|()) = 0.91\n",
      "P(0|()) = 0.91\n",
      "P(0|()) = 0.91\n",
      "P(0|()) = 0.91\n",
      "P(0|()) = 0.91\n",
      "P(0|()) = 0.91\n",
      "P(0|()) = 0.91\n",
      "P(0|()) = 0.91\n",
      "P(0|()) = 0.91\n",
      "P(0|()) = 0.91\n",
      "P(0|()) = 0.91\n",
      "P(0|()) = 0.91\n",
      "P(0|()) = 0.91\n",
      "P(0|()) = 0.91\n",
      "P(0|()) = 0.91\n",
      "P(0|()) = 0.91\n",
      "P(0|()) = 0.91\n",
      "P(0|()) = 0.91\n",
      "P(0|()) = 0.91\n",
      "P(0|()) = 0.91\n",
      "P(0|()) = 0.91\n",
      "P(0|()) = 0.91\n",
      "P(0|()) = 0.91\n",
      "P(0|()) = 0.91\n",
      "P(0|()) = 0.91\n",
      "P(0|()) = 0.91\n",
      "P(0|()) = 0.91\n",
      "P(0|()) = 0.91\n",
      "P(0|()) = 0.91\n",
      "P(0|()) = 0.91\n",
      "P(0|()) = 0.91\n",
      "P(0|()) = 0.91\n",
      "P(0|()) = 0.91\n",
      "P(0|()) = 0.91\n",
      "P(0|()) = 0.91\n",
      "P(0|()) = 0.91\n",
      "P(0|()) = 0.91\n",
      "P(0|()) = 0.91\n",
      "P(0|()) = 0.91\n",
      "P(0|()) = 0.91\n",
      "P(0|()) = 0.91\n",
      "P(0|()) = 0.91\n",
      "P(0|()) = 0.91\n",
      "P(0|()) = 0.91\n",
      "P(0|()) = 0.91\n",
      "P(0|()) = 0.91\n",
      "P(0|()) = 0.91\n",
      "P(0|()) = 0.91\n",
      "P(0|()) = 0.91\n",
      "P(0|()) = 0.91\n",
      "P(0|()) = 0.91\n",
      "P(0|()) = 0.91\n",
      "P(0|()) = 0.91\n",
      "P(0|()) = 0.91\n",
      "P(0|()) = 0.91\n",
      "P(0|()) = 0.91\n",
      "P(0|()) = 0.91\n",
      "P(0|()) = 0.91\n",
      "P(0|()) = 0.91\n",
      "P(0|()) = 0.91\n",
      "P(0|()) = 0.91\n",
      "P(0|()) = 0.91\n",
      "P(0|()) = 0.91\n",
      "P(0|()) = 0.91\n",
      "P(0|()) = 0.91\n",
      "P(0|()) = 0.91\n",
      "P(0|()) = 0.91\n",
      "P(0|()) = 0.91\n",
      "P(0|()) = 0.91\n",
      "P(0|()) = 0.91\n",
      "P(0|()) = 0.91\n",
      "P(0|()) = 0.91\n",
      "P(0|()) = 0.91\n",
      "P(0|()) = 0.91\n",
      "P(0|()) = 0.91\n",
      "P(0|()) = 0.91\n",
      "P(0|()) = 0.91\n",
      "P(0|()) = 0.91\n",
      "P(0|()) = 0.91\n",
      "P(0|()) = 0.91\n",
      "P(0|()) = 0.91\n",
      "P(0|()) = 0.91\n",
      "P(0|()) = 0.91\n",
      "P(0|()) = 0.91\n",
      "P(0|()) = 0.91\n",
      "P(0|()) = 0.91\n",
      "P(0|()) = 0.91\n",
      "P(0|()) = 0.91\n",
      "P(0|()) = 0.91\n",
      "P(0|()) = 0.91\n",
      "P(1|()) = 0.01\n",
      "P(2|()) = 0.01\n",
      "P(3|()) = 0.01\n",
      "P(4|()) = 0.01\n",
      "P(5|()) = 0.01\n",
      "P(6|()) = 0.01\n",
      "P(7|()) = 0.01\n",
      "P(8|()) = 0.01\n",
      "P(9|()) = 0.01\n",
      "P(W) = 0.004279298001297885\n",
      "Preplexity:  1.7252925496828495\n"
     ]
    }
   ],
   "source": [
    "# Example of numbers\n",
    "\n",
    "# 91 zeros\n",
    "corpus_train = \"\"\n",
    "for i in range(91): \n",
    "    corpus_train += \" 0\"\n",
    "\n",
    "corpus_train += \" 1 2 3 4 5 6 7 8 9\"\n",
    "\n",
    "print(corpus_train)\n",
    "\n",
    "corpus_test = \"0 0 0 0 0 3 0 0 0 0\"\n",
    "\n",
    "# NOTE: Notice that the perplexity is low because it contains a lot of zeros, and\n",
    "# as the training corpus have a lot of zeros, it gives more weight to zeros (and more prob)\n",
    "# as the test contains a good quantity of zeros it gives us a really low perplexity\n",
    "\n",
    "# NOTE: this example help us to understand that the perplexity can be understand as\n",
    "# weighted average branching factor of a language\n",
    "# normally the branching factor is the number of possible next words that can follow any word\n",
    "# in this case, it would 10 because we can only select from 0 to 9 numbers\n",
    "# but as the perplexity is based on the probabilities it give more weight to \n",
    "# the appearance of zero in the test set, and consequently reduce the perplexity\n",
    "probabilities = n_grams(corpus_train, n = 1)\n",
    "print(\"Preplexity: \", preplexity(corpus_test, probabilities, n = 1))"
   ]
  },
  {
   "cell_type": "markdown",
   "metadata": {},
   "source": [
    "**6. You are given a training set of 100 numbers that consists of 91 zeros and 1 each of\n",
    "the other digits 1-9. Now we see the following test set: 0 0 0 0 0 3 0 0 0 0. What is\n",
    "the unigram perplexity?**\n",
    "\n",
    "NOTE: Review ipad"
   ]
  },
  {
   "cell_type": "code",
   "execution_count": 142,
   "metadata": {},
   "outputs": [
    {
     "data": {
      "text/plain": [
       "1.7252925496828495"
      ]
     },
     "execution_count": 142,
     "metadata": {},
     "output_type": "execute_result"
    }
   ],
   "source": [
    "((0.91 ** 9) * 0.01) ** (-1/10)"
   ]
  },
  {
   "cell_type": "markdown",
   "metadata": {},
   "source": [
    "# Quesitions to Ask\n",
    "\n",
    "1. The n-gram language model objective is to get all the possible n-gram conditional probabilities, right?\n",
    "    - In a bi-gram, for example we only be interested in the consecutive pair (or in any pair in general). I think in any pair in general because we have to build that table for all the pairs.\n",
    "    - Then the process would be based on the vocabulary build all the pairs and assign different probabilities to those pair considering ordering because (I, am) would be different than (am, I)\n",
    "    - NOTE: Then, if a pair doesn't appear in the given corpus. It will be have 0 probability right? or not?\n",
    "    - A consequence of this model is that if a word is also not present in the n-gram train corpus. Then, there is not an assignated probability.\n",
    "\n",
    "2. What happen with the test corpus, when it has a word (or pair) that is not in the train corpus. The probability p(corpus) will become zero and the perplexity -> infinity ???\n",
    "\n"
   ]
  },
  {
   "cell_type": "markdown",
   "metadata": {},
   "source": [
    "# Takeaways\n",
    "\n",
    "- By trying two different corpus of two different topics like emails and newspapers. You would get an intuition of what you should expect in different problems."
   ]
  }
 ],
 "metadata": {
  "kernelspec": {
   "display_name": "ml-master",
   "language": "python",
   "name": "python3"
  },
  "language_info": {
   "codemirror_mode": {
    "name": "ipython",
    "version": 3
   },
   "file_extension": ".py",
   "mimetype": "text/x-python",
   "name": "python",
   "nbconvert_exporter": "python",
   "pygments_lexer": "ipython3",
   "version": "3.7.12"
  }
 },
 "nbformat": 4,
 "nbformat_minor": 2
}
