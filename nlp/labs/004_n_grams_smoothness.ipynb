{
 "cells": [
  {
   "cell_type": "markdown",
   "metadata": {},
   "source": [
    "# Week 02: Smoothness"
   ]
  },
  {
   "cell_type": "markdown",
   "metadata": {},
   "source": [
    "**1. Calculate the probability of the sentence i want chinese food. Give two probabilities,\n",
    "one using Fig. 3.2 and another using the add-1 smoothed table in Fig. 3.7. Assume\n",
    "the additional add-1 smoothed probabilities P (i| < s >) = 0.19 and P (< /s >\n",
    "|f ood) = 0.40.**"
   ]
  },
  {
   "cell_type": "code",
   "execution_count": 2,
   "metadata": {},
   "outputs": [
    {
     "data": {
      "text/plain": [
       "8.47704e-05"
      ]
     },
     "execution_count": 2,
     "metadata": {},
     "output_type": "execute_result"
    }
   ],
   "source": [
    "p_zero_probs = 0.19 * 0.33 * 0.0065 * 0.52 * 0.4\n",
    "p_zero_probs"
   ]
  },
  {
   "cell_type": "code",
   "execution_count": 1,
   "metadata": {},
   "outputs": [
    {
     "data": {
      "text/plain": [
       "2.4067679999999995e-06"
      ]
     },
     "execution_count": 1,
     "metadata": {},
     "output_type": "execute_result"
    }
   ],
   "source": [
    "p_add_1_smoothed = 0.19 * 0.21 * 0.0029 * 0.052 * 0.4\n",
    "p_add_1_smoothed"
   ]
  },
  {
   "cell_type": "markdown",
   "metadata": {},
   "source": [
    "**2. Which of the two probabilities you computed in the previous exercise is higher,\n",
    "unsmoothed or smoothed? Explain why.**\n",
    "\n",
    "The probability using the first table (with zeros probs) is higer than the probability\n",
    "using add 1 smoothed table.\n",
    "\n",
    "It is because the add 1 smoothness process is shaving off a bit of the probability mass from \n",
    "some more frequent events and give it to the events with zero prob. Consequently, if we calculate\n",
    "the probability of the sentences using the probability of the bigrams in the second table.\n",
    "These bigrams' probabilities will be lower, and the whole sentence's probability will be lower as well.\n"
   ]
  },
  {
   "cell_type": "markdown",
   "metadata": {},
   "source": [
    "**3. We are given the following corpus, modified from the example Dr Seuss corpus:**\n",
    "```\n",
    "<s> I am Sam </s>\n",
    "<s> Sam I am </s>\n",
    "<s> I am Sam </s>\n",
    "<s> I do not like green eggs and Sam </s>\n",
    "```\n",
    "**Using a bigram language model with add-one smoothing, what is P (Sam|am)? Include < s > and < /s > in your counts just like any other token.**"
   ]
  },
  {
   "cell_type": "code",
   "execution_count": 13,
   "metadata": {},
   "outputs": [
    {
     "data": {
      "text/plain": [
       "Counter({'<s>': 4,\n",
       "         'I': 4,\n",
       "         'am': 3,\n",
       "         'Sam': 4,\n",
       "         '</s>': 4,\n",
       "         'do': 1,\n",
       "         'not': 1,\n",
       "         'like': 1,\n",
       "         'green': 1,\n",
       "         'eggs': 1,\n",
       "         'and': 1})"
      ]
     },
     "execution_count": 13,
     "metadata": {},
     "output_type": "execute_result"
    }
   ],
   "source": [
    "import re\n",
    "from collections import Counter\n",
    "import numpy as np\n",
    "\n",
    "corpus = '''\n",
    "<s> I am Sam </s>\n",
    "<s> Sam I am </s>\n",
    "<s> I am Sam </s>\n",
    "<s> I do not like green eggs and Sam </s>\n",
    "'''\n",
    "\n",
    "corpus = re.findall(r'[A-Za-z0-9|(<s>)|(</s>)]+', corpus)\n",
    "vocabulary = Counter(corpus)\n",
    "vocabulary"
   ]
  },
  {
   "cell_type": "code",
   "execution_count": 12,
   "metadata": {},
   "outputs": [
    {
     "data": {
      "text/plain": [
       "array([[0., 0., 0., 0., 0., 0., 0., 0., 0., 0., 0.],\n",
       "       [0., 0., 0., 0., 0., 0., 0., 0., 0., 0., 0.],\n",
       "       [0., 0., 0., 0., 0., 0., 0., 0., 0., 0., 0.],\n",
       "       [0., 0., 0., 0., 0., 0., 0., 0., 0., 0., 0.],\n",
       "       [0., 0., 0., 0., 0., 0., 0., 0., 0., 0., 0.],\n",
       "       [0., 0., 0., 0., 0., 0., 0., 0., 0., 0., 0.],\n",
       "       [0., 0., 0., 0., 0., 0., 0., 0., 0., 0., 0.],\n",
       "       [0., 0., 0., 0., 0., 0., 0., 0., 0., 0., 0.],\n",
       "       [0., 0., 0., 0., 0., 0., 0., 0., 0., 0., 0.],\n",
       "       [0., 0., 0., 0., 0., 0., 0., 0., 0., 0., 0.],\n",
       "       [0., 0., 0., 0., 0., 0., 0., 0., 0., 0., 0.]])"
      ]
     },
     "execution_count": 12,
     "metadata": {},
     "output_type": "execute_result"
    }
   ],
   "source": [
    "# only bigram\n",
    "\n",
    "bigram_matrix = np.zeros((len(vocabulary), len(vocabulary)))\n",
    "bigram_matrix"
   ]
  },
  {
   "cell_type": "code",
   "execution_count": 15,
   "metadata": {},
   "outputs": [
    {
     "data": {
      "text/plain": [
       "Counter({('<s>', 'I'): 3,\n",
       "         ('I', 'am'): 3,\n",
       "         ('am', 'Sam'): 2,\n",
       "         ('Sam', '</s>'): 3,\n",
       "         ('</s>', '<s>'): 3,\n",
       "         ('<s>', 'Sam'): 1,\n",
       "         ('Sam', 'I'): 1,\n",
       "         ('am', '</s>'): 1,\n",
       "         ('I', 'do'): 1,\n",
       "         ('do', 'not'): 1,\n",
       "         ('not', 'like'): 1,\n",
       "         ('like', 'green'): 1,\n",
       "         ('green', 'eggs'): 1,\n",
       "         ('eggs', 'and'): 1,\n",
       "         ('and', 'Sam'): 1})"
      ]
     },
     "execution_count": 15,
     "metadata": {},
     "output_type": "execute_result"
    }
   ],
   "source": [
    "def find_consecutive_tuples(lst, n = 2):\n",
    "    tuples = []\n",
    "    for i in range(len(lst) - n + 1):\n",
    "        tuple_n = tuple(lst[i:i+n])\n",
    "        tuples.append(tuple_n)\n",
    "    tuples = Counter(tuples)\n",
    "    return tuples\n",
    "\n",
    "tuples_n_counters = find_consecutive_tuples(corpus)\n",
    "tuples_n_counters"
   ]
  },
  {
   "cell_type": "code",
   "execution_count": null,
   "metadata": {},
   "outputs": [],
   "source": [
    "for "
   ]
  }
 ],
 "metadata": {
  "kernelspec": {
   "display_name": "ml-master",
   "language": "python",
   "name": "python3"
  },
  "language_info": {
   "codemirror_mode": {
    "name": "ipython",
    "version": 3
   },
   "file_extension": ".py",
   "mimetype": "text/x-python",
   "name": "python",
   "nbconvert_exporter": "python",
   "pygments_lexer": "ipython3",
   "version": "3.8.18"
  }
 },
 "nbformat": 4,
 "nbformat_minor": 2
}
