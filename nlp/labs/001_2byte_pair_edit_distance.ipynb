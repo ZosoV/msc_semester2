{
 "cells": [
  {
   "cell_type": "markdown",
   "metadata": {},
   "source": [
    "# Week 01: Byte-Pair Encoding and Minimum Edit Distance\n"
   ]
  },
  {
   "cell_type": "markdown",
   "metadata": {},
   "source": [
    "**1. What is tokenization in the context of natural language processing?**\n",
    "\n",
    "It's the process of splitting a corpus of text into tokens. A token can be any different\n",
    "basic unit for understanding a language such as words, only chars, or stems."
   ]
  },
  {
   "cell_type": "markdown",
   "metadata": {},
   "source": [
    "**2. Explain Byte Pair Encoding with an example.**\n",
    "```\n",
    "Vocabulary: _, d, e, i, l, n, o, r, s, t, w\n",
    "\n",
    "\n",
    "Words\n",
    "5 l o w _\n",
    "2 l o w e s t _\n",
    "6 n e w e r _\n",
    "3 w i d e r _\n",
    "2 n e w _\n",
    "```\n",
    "\n",
    "**Preprocessing Step**: \n",
    "- Segment the words in different chars and add the additional underscore char.\n",
    "- Count the words frequency \n",
    "- Add the unique chars to a vocabulary. \n",
    "\n",
    "1. Look for every pair of characters in each word, count, and get the total frequency (consider the word frequency).\n",
    "2. Get the pair with the highest frequency (charL, charR)\n",
    "2. The pair with highest frequency is added to the vocabulary as a single char (NOTE: there can be some ties)\n",
    "3. Replace each occurance of (charL, charR) in the words, in other words, grouped together as a single char."
   ]
  },
  {
   "cell_type": "markdown",
   "metadata": {},
   "source": [
    "**3. Create a basic Byte Pair Encoding algorithm in Python that will work with a test corpus.**"
   ]
  },
  {
   "cell_type": "code",
   "execution_count": 20,
   "metadata": {},
   "outputs": [],
   "source": [
    "import re\n",
    "from collections import Counter"
   ]
  },
  {
   "cell_type": "code",
   "execution_count": 21,
   "metadata": {},
   "outputs": [],
   "source": [
    "corpus = '''\n",
    "low low low low low \n",
    "lowest lowest\n",
    "newer newer newer newer newer newer\n",
    "wider wider wider\n",
    "new new\n",
    "'''"
   ]
  },
  {
   "cell_type": "code",
   "execution_count": 22,
   "metadata": {},
   "outputs": [
    {
     "name": "stdout",
     "output_type": "stream",
     "text": [
      "Preprocessing: \n",
      "[['l', 'o', 'w', '_'], ['l', 'o', 'w', 'e', 's', 't', '_'], ['n', 'e', 'w', 'e', 'r', '_'], ['w', 'i', 'd', 'e', 'r', '_'], ['n', 'e', 'w', '_']]\n",
      "[5, 2, 6, 3, 2] \n",
      "\n"
     ]
    }
   ],
   "source": [
    "def preprocess_corpus(corpus):\n",
    "# Split in words -> count -> split chars -> add underscore\n",
    "    corpus = re.findall(r'[A-Za-z]+', corpus)\n",
    "    corpus = Counter(corpus)\n",
    "    words = [ list(word) + [\"_\"] for word, freq in corpus.items() ]\n",
    "    frequencies = [ freq for word, freq in corpus.items() ]\n",
    "    \n",
    "    print(\"Preprocessing: \")\n",
    "    print(words)\n",
    "    print(frequencies, \"\\n\")\n",
    "\n",
    "    return words, frequencies\n",
    "\n",
    "words, frequencies = preprocess_corpus(corpus)"
   ]
  },
  {
   "cell_type": "code",
   "execution_count": 23,
   "metadata": {},
   "outputs": [
    {
     "name": "stdout",
     "output_type": "stream",
     "text": [
      "Most Frequent Pair: \n",
      "('e', 'r') \n",
      "\n"
     ]
    }
   ],
   "source": [
    "def get_most_frequent(words, frequencies, print_process = False):\n",
    "    \n",
    "    hashmap = {}\n",
    "\n",
    "    for word_idx, word in enumerate(words):\n",
    "        for i in range(len(word)-1):\n",
    "            charL, charR = word[i], word[i+1]\n",
    "\n",
    "            if (charL, charR) in hashmap:\n",
    "                hashmap[(charL, charR)] += frequencies[word_idx]\n",
    "            else:\n",
    "                hashmap[(charL, charR)] = frequencies[word_idx]\n",
    "\n",
    "    max_freq = 0\n",
    "    max_pair = None\n",
    "    for pair, freq in hashmap.items():\n",
    "\n",
    "        if freq > max_freq:\n",
    "            max_freq = freq\n",
    "            max_pair = pair\n",
    "    \n",
    "    if print_process:\n",
    "        print(\"Most Frequent Pair: \")\n",
    "        print(max_pair, \"\\n\")\n",
    "    return max_pair\n",
    "\n",
    "\n",
    "best_pair = get_most_frequent(words, frequencies, print_process= True)"
   ]
  },
  {
   "cell_type": "code",
   "execution_count": 24,
   "metadata": {},
   "outputs": [
    {
     "name": "stdout",
     "output_type": "stream",
     "text": [
      "Replacing Ocurrances:\n",
      "[['l', 'o', 'w', '_'], ['l', 'o', 'w', 'e', 's', 't', '_'], ['n', 'e', 'w', 'e', 'r', '_'], ['w', 'i', 'd', 'e', 'r', '_'], ['n', 'e', 'w', '_']]\n",
      "[['l', 'o', 'w', '_'], ['l', 'o', 'w', 'e', 's', 't', '_'], ['n', 'e', 'w', 'er', '_'], ['w', 'i', 'd', 'er', '_'], ['n', 'e', 'w', '_']] \n",
      "\n"
     ]
    }
   ],
   "source": [
    "def replace_ocurrances(best_pair, words, print_process = False):\n",
    "\n",
    "    if print_process:\n",
    "        print(\"Replacing Ocurrances:\")\n",
    "        print(words)\n",
    "\n",
    "    for word_idx, word in enumerate(words):\n",
    "\n",
    "        for i in range(len(word)-1):\n",
    "            if (word[i], word[i+1]) == best_pair:\n",
    "                words[word_idx][i] = word[i] + word[i+1]\n",
    "                del words[word_idx][i+1]\n",
    "                break\n",
    "            \n",
    "    if print_process:\n",
    "        print(words, \"\\n\")\n",
    "    return words\n",
    "\n",
    "words = replace_ocurrances(best_pair, words, print_process=True)"
   ]
  },
  {
   "cell_type": "code",
   "execution_count": 25,
   "metadata": {},
   "outputs": [],
   "source": [
    "def byte_pair_encoding(corpus, k, print_process = False):\n",
    "\n",
    "    # Let's convert everything to lower case\n",
    "    corpus = corpus.lower()\n",
    "\n",
    "    # Find the unique char of the vocabulary \n",
    "    vocabulary = [\"_\"] + list(set(re.findall(r'[A-Za-z]', corpus)))\n",
    "\n",
    "    # Split the words in a list of list, where each word is a list of chars.\n",
    "    # And get the frequency of each repeated word.\n",
    "    words, frequencies = preprocess_corpus(corpus)\n",
    "                \n",
    "    # k maximum merges\n",
    "    for i in range(k):\n",
    "        print(f\"Iteration {i}:\")\n",
    "\n",
    "        # Finding the most frequent pair of adjacent chars\n",
    "        charL, charR = get_most_frequent(words, frequencies, print_process)\n",
    "\n",
    "        # Joining and adding new char to the vocabulary\n",
    "        new_char = charL + charR\n",
    "        vocabulary.append(new_char)\n",
    "        print(\"vocabulary:\", vocabulary, \"\\n\")\n",
    "\n",
    "        # Replacing the char in the words\n",
    "        words = replace_ocurrances((charL, charR), words, print_process)\n",
    "\n",
    "    return vocabulary"
   ]
  },
  {
   "cell_type": "code",
   "execution_count": 26,
   "metadata": {},
   "outputs": [
    {
     "name": "stdout",
     "output_type": "stream",
     "text": [
      "Preprocessing: \n",
      "[['l', 'o', 'w', '_'], ['l', 'o', 'w', 'e', 's', 't', '_'], ['n', 'e', 'w', 'e', 'r', '_'], ['w', 'i', 'd', 'e', 'r', '_'], ['n', 'e', 'w', '_']]\n",
      "[5, 2, 6, 3, 2] \n",
      "\n",
      "Iteration 0:\n",
      "vocabulary: ['_', 'w', 'r', 'o', 't', 'e', 'i', 'd', 'l', 'n', 's', 'er'] \n",
      "\n",
      "Iteration 1:\n",
      "vocabulary: ['_', 'w', 'r', 'o', 't', 'e', 'i', 'd', 'l', 'n', 's', 'er', 'er_'] \n",
      "\n",
      "Iteration 2:\n",
      "vocabulary: ['_', 'w', 'r', 'o', 't', 'e', 'i', 'd', 'l', 'n', 's', 'er', 'er_', 'ne'] \n",
      "\n",
      "Iteration 3:\n",
      "vocabulary: ['_', 'w', 'r', 'o', 't', 'e', 'i', 'd', 'l', 'n', 's', 'er', 'er_', 'ne', 'new'] \n",
      "\n",
      "Iteration 4:\n",
      "vocabulary: ['_', 'w', 'r', 'o', 't', 'e', 'i', 'd', 'l', 'n', 's', 'er', 'er_', 'ne', 'new', 'lo'] \n",
      "\n",
      "Iteration 5:\n",
      "vocabulary: ['_', 'w', 'r', 'o', 't', 'e', 'i', 'd', 'l', 'n', 's', 'er', 'er_', 'ne', 'new', 'lo', 'low'] \n",
      "\n",
      "Iteration 6:\n",
      "vocabulary: ['_', 'w', 'r', 'o', 't', 'e', 'i', 'd', 'l', 'n', 's', 'er', 'er_', 'ne', 'new', 'lo', 'low', 'newer_'] \n",
      "\n",
      "Iteration 7:\n",
      "vocabulary: ['_', 'w', 'r', 'o', 't', 'e', 'i', 'd', 'l', 'n', 's', 'er', 'er_', 'ne', 'new', 'lo', 'low', 'newer_', 'low_'] \n",
      "\n"
     ]
    }
   ],
   "source": [
    "corpus = '''\n",
    "low low low low low \n",
    "lowest lowest\n",
    "newer newer newer newer newer newer\n",
    "wider wider wider\n",
    "new new\n",
    "'''\n",
    "\n",
    "vocabulary = byte_pair_encoding(corpus, k = 8)\n"
   ]
  },
  {
   "cell_type": "markdown",
   "metadata": {},
   "source": [
    "**4. What is the minimum edit distance and its significance in NLP?**\n",
    "\n",
    "The minimum edit distance corresponds to the minimum number of operations (deletion, insertation and substitution) that must done in order to transform one word into another.\n"
   ]
  },
  {
   "cell_type": "markdown",
   "metadata": {},
   "source": [
    "**5. Compute the edit distance (using insertion cost 1, deletion cost 1, substitution cost 1) of leda to deal. Show your work (using the edit distance grid).**\n",
    "\n",
    "NOTE: Check ipad to check results\n"
   ]
  },
  {
   "cell_type": "markdown",
   "metadata": {},
   "source": [
    "**6. Figure out whether drive is closer to brief or to divers and what the edit distance is to each. Use Levehnstein distance.**\n",
    "\n",
    "TODO (Exercise for practice to exam): By hand calculate"
   ]
  },
  {
   "cell_type": "markdown",
   "metadata": {},
   "source": [
    "**7. Now implement a minimum edit distance algorithm and use your hand-computed results to check your code**"
   ]
  },
  {
   "cell_type": "code",
   "execution_count": 27,
   "metadata": {},
   "outputs": [],
   "source": [
    "import numpy as np\n",
    "\n",
    "def minimum_edit_distance(source, target, levehnstein = False):\n",
    "    n = len(source)\n",
    "    m = len(target)\n",
    "\n",
    "    # In order to include the zero row and column + 1\n",
    "    distance_matrix = np.zeros((n + 1,m + 1))\n",
    "\n",
    "    # Init zero column and zero row\n",
    "    for i in range(n + 1):\n",
    "        distance_matrix[i,0] = i\n",
    "\n",
    "    for j in range(n + 1):\n",
    "        distance_matrix[0,j] = j\n",
    "\n",
    "    # All cost = 1\n",
    "    for i in range(1, n + 1):\n",
    "        for j in range(1, m + 1):\n",
    "\n",
    "            if levehnstein:\n",
    "                substitution_cost = 0 if source[i-1] == target[j-1] else 2\n",
    "            else:\n",
    "                substitution_cost = 0 if source[i-1] == target[j-1] else 1\n",
    "\n",
    "            distance_matrix[i,j] = min(\n",
    "                distance_matrix[i-1,j] + 1,\n",
    "                distance_matrix[i-1,j-1] + substitution_cost,\n",
    "                distance_matrix[i,j-1] + 1\n",
    "            )\n",
    "    return distance_matrix\n"
   ]
  },
  {
   "cell_type": "code",
   "execution_count": 30,
   "metadata": {},
   "outputs": [
    {
     "data": {
      "text/plain": [
       "array([[0., 1., 2., 3., 4., 5., 6., 7., 8., 9.],\n",
       "       [1., 1., 2., 3., 4., 5., 6., 7., 8., 9.],\n",
       "       [2., 2., 2., 3., 4., 5., 6., 7., 8., 9.],\n",
       "       [3., 3., 3., 3., 4., 5., 6., 7., 8., 9.],\n",
       "       [4., 4., 4., 4., 4., 5., 6., 7., 8., 9.],\n",
       "       [5., 5., 5., 5., 5., 5., 6., 7., 8., 9.],\n",
       "       [6., 6., 6., 6., 6., 6., 6., 7., 8., 9.],\n",
       "       [7., 7., 7., 7., 7., 7., 7., 7., 8., 9.],\n",
       "       [8., 8., 8., 8., 8., 8., 8., 8., 8., 9.],\n",
       "       [9., 9., 9., 9., 9., 9., 9., 9., 9., 9.]])"
      ]
     },
     "execution_count": 30,
     "metadata": {},
     "output_type": "execute_result"
    }
   ],
   "source": [
    "minimum_edit_distance(source = \"tttsadset\", target = \"ndasmaeel\")"
   ]
  },
  {
   "cell_type": "code",
   "execution_count": 28,
   "metadata": {},
   "outputs": [
    {
     "data": {
      "text/plain": [
       "array([[0., 1., 2., 3., 4., 5., 6., 7., 8., 9.],\n",
       "       [1., 1., 2., 3., 4., 5., 6., 7., 8., 9.],\n",
       "       [2., 2., 2., 3., 4., 5., 6., 7., 8., 9.],\n",
       "       [3., 3., 3., 3., 4., 5., 6., 7., 8., 9.],\n",
       "       [4., 4., 4., 4., 4., 5., 6., 7., 8., 9.],\n",
       "       [5., 5., 5., 5., 5., 5., 6., 7., 8., 9.],\n",
       "       [6., 6., 6., 6., 6., 6., 6., 7., 8., 9.],\n",
       "       [7., 7., 7., 7., 7., 7., 7., 7., 8., 9.],\n",
       "       [8., 8., 8., 8., 8., 8., 8., 8., 8., 9.],\n",
       "       [9., 9., 9., 9., 9., 9., 9., 9., 9., 9.]])"
      ]
     },
     "execution_count": 28,
     "metadata": {},
     "output_type": "execute_result"
    }
   ],
   "source": [
    "minimum_edit_distance(source = \"intention\", target = \"execution\")"
   ]
  },
  {
   "cell_type": "code",
   "execution_count": 29,
   "metadata": {},
   "outputs": [
    {
     "data": {
      "text/plain": [
       "array([[ 0.,  1.,  2.,  3.,  4.,  5.,  6.,  7.,  8.,  9.],\n",
       "       [ 1.,  2.,  3.,  4.,  5.,  6.,  7.,  6.,  7.,  8.],\n",
       "       [ 2.,  3.,  4.,  5.,  6.,  7.,  8.,  7.,  8.,  7.],\n",
       "       [ 3.,  4.,  5.,  6.,  7.,  8.,  7.,  8.,  9.,  8.],\n",
       "       [ 4.,  3.,  4.,  5.,  6.,  7.,  8.,  9., 10.,  9.],\n",
       "       [ 5.,  4.,  5.,  6.,  7.,  8.,  9., 10., 11., 10.],\n",
       "       [ 6.,  5.,  6.,  7.,  8.,  9.,  8.,  9., 10., 11.],\n",
       "       [ 7.,  6.,  7.,  8.,  9., 10.,  9.,  8.,  9., 10.],\n",
       "       [ 8.,  7.,  8.,  9., 10., 11., 10.,  9.,  8.,  9.],\n",
       "       [ 9.,  8.,  9., 10., 11., 12., 11., 10.,  9.,  8.]])"
      ]
     },
     "execution_count": 29,
     "metadata": {},
     "output_type": "execute_result"
    }
   ],
   "source": [
    "minimum_edit_distance(source = \"intention\", target = \"execution\", levehnstein = True)"
   ]
  },
  {
   "attachments": {
    "image.png": {
     "image/png": "[encoded data removed]"
    }
   },
   "cell_type": "markdown",
   "metadata": {},
   "source": [
    "# Questions \n",
    "1. We always would get the same edit minimum distance between words of the same size if we use only cost of 1\n",
    "    - NO: **NOTE**: A substitution with a same letter will always have cost zero, even in the case when every operation costs 1.\n",
    "    - Is a bad assumption all the costs to 1? \n",
    "    - Is better a cost substitution = 2 (if the chars are different) because we at least are comparing some chars, right?\n",
    "    - But in general, it would be better to create more specialized functions, which give more weight to particular substitutions, right?\n",
    "2. Do you think is necessary to know how to calculate this edit distance by hand? Because the questions 4 and 5 ask us for that? Or is only enough with doing a fast estimation doing an aligment like this\n",
    "YES, it's important to know how to run the algorithm with small examples (it's not too difficult just focus in the closes cells to do calculation)\n",
    "\n",
    "3. I don't understand where the aligment came into play. What an aligment really means? Is only as the image below.\n",
    "\n",
    "![image.png](attachment:image.png)|\n",
    "\n",
    "The alignment indicates in a visual way the path that you have to take in order to convert from one string to the other.\n",
    "\n",
    "4. How backtrace works in order to get an alignment?\n",
    "It always take the less cost path in order to get the alignment with the minimum distance. \n",
    "NOTE: However I still don't understand why in some cases we use more than 1 pointer.\n",
    "    - **Why three pointers in some situations?**\n",
    "\n",
    "5. Backtrace find the best alignment or is only a way to find a possible aligment. You can take any path back to the beginning, right?\n",
    "Ir order to get the best alignment you always have to take the minimum path\n",
    "\n",
    "![image.png](attachment:image.png)\n",
    "\n",
    "\n"
   ]
  },
  {
   "cell_type": "markdown",
   "metadata": {},
   "source": [
    "# Important Takeways\n",
    "\n",
    "- In general, for each Application we have to search an specific tokenizer for task at hand.\n",
    "\n"
   ]
  },
  {
   "cell_type": "code",
   "execution_count": null,
   "metadata": {},
   "outputs": [],
   "source": []
  }
 ],
 "metadata": {
  "kernelspec": {
   "display_name": "ml-master",
   "language": "python",
   "name": "python3"
  },
  "language_info": {
   "codemirror_mode": {
    "name": "ipython",
    "version": 3
   },
   "file_extension": ".py",
   "mimetype": "text/x-python",
   "name": "python",
   "nbconvert_exporter": "python",
   "pygments_lexer": "ipython3",
   "version": "3.7.12"
  }
 },
 "nbformat": 4,
 "nbformat_minor": 2
}
