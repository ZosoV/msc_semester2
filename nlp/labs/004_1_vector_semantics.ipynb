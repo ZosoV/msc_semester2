{
 "cells": [
  {
   "cell_type": "markdown",
   "metadata": {},
   "source": [
    "# Week 04: Vector Semantics"
   ]
  },
  {
   "cell_type": "markdown",
   "metadata": {},
   "source": [
    "**1. What is synonymy, and why is it important in NLP?**\n",
    "\n",
    "- A synonym is a word with an identical or simlar sense of another word. \n",
    "- Two words are synonyms if they are substitutable for one another in any sentence without chaing the truth conditions of the sentence.\n",
    "\n",
    "It's important in NLP because it allows us to develop a notion of similarity between words, which is useful in several NLP task such as paraphrasing."
   ]
  },
  {
   "cell_type": "markdown",
   "metadata": {},
   "source": [
    "**2. How do NLP systems identify synonyms?**\n",
    "\n",
    "They use a notion of similarity to distinguish words that are similar. This notion commonly is based on a vectorized representation of words, and a similarity metric is used to quantify the relation between words."
   ]
  },
  {
   "cell_type": "markdown",
   "metadata": {},
   "source": [
    "**3. Think about and discuss the challenges of synonymy for machine translation systems.**\n",
    "\n",
    "- The exact meaning of a word in a source language can be totally different in a target (translated) language.\n",
    "    - A machine translation should be able to understand this meaning a provide the more adequate synonym.\n",
    "- Depending on the context, some synonyms are more relevant than others.\n",
    "    - e.g. in a scientific context using the word H20 is better than using the word \"water\" in a corpus about hiking."
   ]
  },
  {
   "cell_type": "markdown",
   "metadata": {},
   "source": [
    "**4. Think about and discuss the limitations of current NLP technologies in dealing with\n",
    "synonymy?**\n",
    "\n",
    "There are different kind of relationship between words that can represent different levels of similarity. In the current NLP system, the idea of meaning of a word is encapsulate in the representation of a word as a vector. However, no particular distinction between differen desiratas are made. It could happen that in some levels of similarity, the system could confused \"synonyms\" with \"relatenes\" or other desiderata.\n"
   ]
  },
  {
   "cell_type": "markdown",
   "metadata": {},
   "source": [
    "**5. Imagine you have word vectors for “king” = [0.1, 0.3, 0.7] and “queen” = [0.2, 0.4,\n",
    "0.6]. Calculate the cosine similarity to determine how similar these words are in the\n",
    "vector space.**"
   ]
  },
  {
   "cell_type": "code",
   "execution_count": 1,
   "metadata": {},
   "outputs": [
    {
     "data": {
      "text/plain": [
       "0.9742446008949093"
      ]
     },
     "execution_count": 1,
     "metadata": {},
     "output_type": "execute_result"
    }
   ],
   "source": [
    "import numpy as np\n",
    "\n",
    "king = [0.1, 0.3, 0.7]\n",
    "queen = [0.2, 0.4, 0.6]\n",
    "\n",
    "# 1. Unit vectors\n",
    "u_king = np.array(king) / np.linalg.norm(king)\n",
    "u_queen = np.array(queen) / np.linalg.norm(queen)\n",
    "\n",
    "# 2. Dot product\n",
    "cosine_similarity = u_king.dot(u_queen)\n",
    "cosine_similarity"
   ]
  },
  {
   "cell_type": "code",
   "execution_count": 2,
   "metadata": {},
   "outputs": [
    {
     "data": {
      "text/plain": [
       "0.9742446008949094"
      ]
     },
     "execution_count": 2,
     "metadata": {},
     "output_type": "execute_result"
    }
   ],
   "source": [
    "norm_king = np.sqrt(0.1**2 + 0.3**2 + 0.7**2)\n",
    "norm_queen = np.sqrt(0.2**2 + 0.4**2 + 0.6**2)\n",
    "\n",
    "cosine_similarity = (0.1*0.2 + 0.3*0.4 + 0.7*0.6) / (norm_king * norm_queen)\n",
    "cosine_similarity"
   ]
  },
  {
   "cell_type": "markdown",
   "metadata": {},
   "source": [
    "**6. In a corpus analysis focusing on word associations, you’re investigating the association between the words ”sunny” and ”weather”. Based on the corpus data, the probabilities are as follows:**\n",
    "\n",
    "- P (”sunny”) = 0.05\n",
    "- P (”weather”) = 0.1\n",
    "- P (”sunny”, ”weather”) = 0.02\n",
    "\n",
    "\n",
    "**Calculate the Pointwise Mutual Information (PMI) between ”sunny” and ”weather”.\n",
    "What does the PMI value indicate about the relationship between these two words\n",
    "in the corpus?**\n",
    "\n",
    "It indicates that there exists a relationship between sunny and weather. Specifically, it shows us that the ratio of the two words occuring in our corpus is greater than expected that those two words are independent. It's 2 times more common to find the two words co-ocurrance thant the two words being independent."
   ]
  },
  {
   "cell_type": "code",
   "execution_count": 4,
   "metadata": {},
   "outputs": [
    {
     "data": {
      "text/plain": [
       "1.9999999999999998"
      ]
     },
     "execution_count": 4,
     "metadata": {},
     "output_type": "execute_result"
    }
   ],
   "source": [
    "p_sunny = 0.05\n",
    "p_weather = 0.1\n",
    "p_sunny_weather = 0.02\n",
    "\n",
    "PMI = np.log2(p_sunny_weather/ (p_sunny*p_weather))\n",
    "PMI"
   ]
  }
 ],
 "metadata": {
  "kernelspec": {
   "display_name": "ml-master",
   "language": "python",
   "name": "python3"
  },
  "language_info": {
   "codemirror_mode": {
    "name": "ipython",
    "version": 3
   },
   "file_extension": ".py",
   "mimetype": "text/x-python",
   "name": "python",
   "nbconvert_exporter": "python",
   "pygments_lexer": "ipython3",
   "version": "3.7.12"
  }
 },
 "nbformat": 4,
 "nbformat_minor": 2
}
