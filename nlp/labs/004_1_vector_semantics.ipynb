{
 "cells": [
  {
   "cell_type": "markdown",
   "metadata": {},
   "source": [
    "# Week 04: Vector Semantics"
   ]
  },
  {
   "cell_type": "markdown",
   "metadata": {},
   "source": [
    "**1. What is synonymy, and why is it important in NLP?**\n"
   ]
  },
  {
   "cell_type": "markdown",
   "metadata": {},
   "source": [
    "**2. How do NLP systems identify synonyms?**"
   ]
  },
  {
   "cell_type": "markdown",
   "metadata": {},
   "source": [
    "**3. Think about and discuss the challenges of synonymy for machine translation systems.**"
   ]
  },
  {
   "cell_type": "markdown",
   "metadata": {},
   "source": [
    "**4. Think about and discuss the limitations of current NLP technologies in dealing with\n",
    "synonymy?**"
   ]
  },
  {
   "cell_type": "markdown",
   "metadata": {},
   "source": [
    "**5. Imagine you have word vectors for “king” = [0.1, 0.3, 0.7] and “queen” = [0.2, 0.4,\n",
    "0.6]. Calculate the cosine similarity to determine how similar these words are in the\n",
    "vector space.**"
   ]
  },
  {
   "cell_type": "markdown",
   "metadata": {},
   "source": [
    "**6. In a corpus analysis focusing on word associations, you’re investigating the associ-\n",
    "ation between the words ”sunny” and ”weather”. Based on the corpus data, the\n",
    "probabilities are as follows:**\n",
    "\n",
    "- P (”sunny”) = 0.05\n",
    "- P (”weather”) = 0.1\n",
    "- P (”sunny”, ”weather”) = 0.02\n",
    "\n",
    "\n",
    "**Calculate the Pointwise Mutual Information (PMI) between ”sunny” and ”weather”.\n",
    "What does the PMI value indicate about the relationship between these two words\n",
    "in the corpus?**"
   ]
  },
  {
   "cell_type": "code",
   "execution_count": null,
   "metadata": {},
   "outputs": [],
   "source": []
  }
 ],
 "metadata": {
  "language_info": {
   "name": "python"
  }
 },
 "nbformat": 4,
 "nbformat_minor": 2
}
