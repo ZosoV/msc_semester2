{
 "cells": [
  {
   "cell_type": "markdown",
   "metadata": {},
   "source": [
    "# Lab 3.1 Naive Bayes Classification and Sentiment Analysis\n"
   ]
  },
  {
   "cell_type": "markdown",
   "metadata": {},
   "source": [
    "**1. Train two models, multinomial naive Bayes and binarized naive Bayes, both with\n",
    "add-1 smoothing, on the following document counts for key sentiment words, with\n",
    "positive or negative class assigned as noted.**\n",
    "\n",
    "```\n",
    "doc ”good” ”poor” ”great” (class)\n",
    "d1. 3 0 3 pos\n",
    "d2. 0 1 2 pos\n",
    "d3. 1 3 0 neg\n",
    "d4. 1 5 2 neg\n",
    "d5. 0 2 0 neg\n",
    "```\n",
    "\n",
    "**Use both naive Bayes models to assign a class (pos or neg) to this sentence:\n",
    "A good, good plot and great characters, but poor acting.\n",
    "Do the two models agree or disagree?**\n"
   ]
  },
  {
   "cell_type": "code",
   "execution_count": null,
   "metadata": {},
   "outputs": [],
   "source": []
  }
 ],
 "metadata": {
  "language_info": {
   "name": "python"
  }
 },
 "nbformat": 4,
 "nbformat_minor": 2
}
